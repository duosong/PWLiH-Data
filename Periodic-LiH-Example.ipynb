{
  "cells": [
    {
      "cell_type": "markdown",
      "source": [
        "# **Periodic LiH VQE energy evaluation on quantum hardware with optimized parameters from simulation.**\r\n",
        "# \r\n",
        "This notebook contains several components including:\r\n",
        "\r\n",
        "1. How to load a Hamiltonian based on the Broombridge schema into qiskit including the functions needed to transform from spatial orbital notation in Broombridge to the spin orbital notation used by quiskit.\r\n",
        "\r\n",
        "2. How to compute optimized parameters for a VQE calculation based on a hardware efficient ansatz using a noise-free simulator.\r\n",
        "\r\n",
        "3. How to simulate with noise and with or without error mitigation.\r\n",
        "\r\n",
        "4. Using the optimized parameters from the noise-free simulator, carry out an energy evaluation on hardware with error mitigation."
      ],
      "metadata": {
        "nteract": {
          "transient": {
            "deleting": false
          }
        }
      }
    },
    {
      "cell_type": "code",
      "source": [
        "import os\r\n",
        "import yaml\r\n",
        "from yaml import SafeLoader\r\n",
        "\r\n",
        "from qiskit.aqua.algorithms import VQE, NumPyEigensolver\r\n",
        "import matplotlib.pyplot as plt\r\n",
        "import numpy as np\r\n",
        "from qiskit.chemistry.components.variational_forms import UCCSD\r\n",
        "from qiskit.chemistry.components.initial_states import HartreeFock\r\n",
        "from qiskit.circuit.library import EfficientSU2\r\n",
        "from qiskit.aqua.components.optimizers import COBYLA, SPSA, SLSQP\r\n",
        "from qiskit.aqua.operators import Z2Symmetries\r\n",
        "from qiskit import IBMQ, BasicAer, Aer, QuantumCircuit, QuantumRegister, transpile, assemble, execute\r\n",
        "from qiskit.chemistry.drivers import PySCFDriver, UnitsType\r\n",
        "from qiskit.chemistry import FermionicOperator\r\n",
        "from qiskit.aqua import QuantumInstance\r\n",
        "from qiskit.ignis.mitigation.measurement import CompleteMeasFitter, complete_meas_cal\r\n",
        "from qiskit.providers.aer.noise import NoiseModel\r\n",
        "from qiskit.result import marginal_counts"
      ],
      "outputs": [],
      "execution_count": null,
      "metadata": {
        "jupyter": {
          "source_hidden": false,
          "outputs_hidden": false
        },
        "nteract": {
          "transient": {
            "deleting": false
          }
        }
      }
    },
    {
      "cell_type": "markdown",
      "source": [
        "**Creating a yaml file based on the Broombridge schema. This example is of LiH with integrals derived from periodic plane-wave calculations.**"
      ],
      "metadata": {
        "nteract": {
          "transient": {
            "deleting": false
          }
        }
      }
    },
    {
      "cell_type": "code",
      "source": [
        "%%writefile H1Li1-7.0.yaml\r\n",
        "\r\n",
        "\"$schema\": https://raw.githubusercontent.com/Microsoft/Quantum/master/Chemistry/Schema/broombridge-0.1.schema.json\r\n",
        "\r\n",
        "bibliography:\r\n",
        "- url: https://www.nwchem-sw.org\r\n",
        "format:\r\n",
        "  version: '0.1'\r\n",
        "generator:\r\n",
        "  source: nwchem\r\n",
        "  version: '6.8'\r\n",
        "integral_sets:\r\n",
        "- basis_set:\r\n",
        "    name: PW\r\n",
        "    type: gaussian\r\n",
        "  coulomb_repulsion:\r\n",
        "    units: hartree\r\n",
        "    value: 0.0\r\n",
        "  energy_offset:\r\n",
        "    units: hartree\r\n",
        "    value: 0.0\r\n",
        "  fci_energy:\r\n",
        "    lower: -0.1\r\n",
        "    units: hartree\r\n",
        "    upper: 0.1\r\n",
        "    value: 0.0\r\n",
        "  geometry:\r\n",
        "    atoms:\r\n",
        "    - coords:\r\n",
        "      - 0.0\r\n",
        "      - 0.0\r\n",
        "      - -1.75\r\n",
        "      name: Li\r\n",
        "    - coords:\r\n",
        "      - 0.0\r\n",
        "      - 0.0\r\n",
        "      - 5.25\r\n",
        "      name: H\r\n",
        "    coordinate_system: cartesian\r\n",
        "    units: angstrom\r\n",
        "  hamiltonian:\r\n",
        "    one_electron_integrals:\r\n",
        "      format: sparse\r\n",
        "      units: hartree\r\n",
        "      values:\r\n",
        "      - - 1\r\n",
        "        - 1\r\n",
        "        - -0.3219447128\r\n",
        "      - - 2\r\n",
        "        - 1\r\n",
        "        - 0.1137558934\r\n",
        "      - - 2\r\n",
        "        - 2\r\n",
        "        - -0.145848565\r\n",
        "    two_electron_integrals:\r\n",
        "      format: sparse\r\n",
        "      index_convention: mulliken\r\n",
        "      units: hartree\r\n",
        "      values:\r\n",
        "      - - 1\r\n",
        "        - 1\r\n",
        "        - 1\r\n",
        "        - 1\r\n",
        "        - 0.1555278586\r\n",
        "      - - 1\r\n",
        "        - 1\r\n",
        "        - 2\r\n",
        "        - 1\r\n",
        "        - -0.113748421\r\n",
        "      - - 1\r\n",
        "        - 1\r\n",
        "        - 2\r\n",
        "        - 2\r\n",
        "        - -3.2818e-06\r\n",
        "      - - 2\r\n",
        "        - 1\r\n",
        "        - 2\r\n",
        "        - 1\r\n",
        "        - 0.077403184\r\n",
        "      - - 2\r\n",
        "        - 1\r\n",
        "        - 2\r\n",
        "        - 2\r\n",
        "        - -0.0119685279\r\n",
        "      - - 2\r\n",
        "        - 2\r\n",
        "        - 2\r\n",
        "        - 2\r\n",
        "        - 0.0038563053\r\n",
        "  metadata:\r\n",
        "    molecule_name: unknown\r\n",
        "  initial_state_suggestions:\r\n",
        "  - state:\r\n",
        "      energy: {units: hartree, value: -0.0}\r\n",
        "      label: '|G>'\r\n",
        "      superposition:\r\n",
        "      - [1.0, (1a)+, (1b)+, '|0>']\r\n",
        "  n_electrons: 2\r\n",
        "  n_orbitals: 2\r\n",
        "  scf_energy:\r\n",
        "    units: hartree\r\n",
        "    value: 0.0\r\n",
        "  scf_energy_offset:\r\n",
        "    units: hartree\r\n",
        "    value: 0.0\r\n"
      ],
      "outputs": [],
      "execution_count": null,
      "metadata": {
        "jupyter": {
          "source_hidden": false,
          "outputs_hidden": false
        },
        "nteract": {
          "transient": {
            "deleting": false
          }
        }
      }
    },
    {
      "cell_type": "markdown",
      "source": [
        "**Extract the Hamiltonian elements and other information from the yaml file, convert it to the format used by Qiskit, and prepare the qubit operator representing the molecule's Hamiltonian.**"
      ],
      "metadata": {
        "nteract": {
          "transient": {
            "deleting": false
          }
        }
      }
    },
    {
      "cell_type": "code",
      "source": [
        "def get_spatial_integrals(one_electron,two_electron,n_orb):\r\n",
        "    one_electron_spatial_integrals = np.zeros((n_orb, n_orb))\r\n",
        "    two_electron_spatial_integrals = np.zeros((n_orb, n_orb, n_orb, n_orb))\r\n",
        "\r\n",
        "    for ind, val in enumerate(one_electron):\r\n",
        "        # This is because python index starts at 0\r\n",
        "        i = int(val[0] - 1)\r\n",
        "        j = int(val[1] - 1)\r\n",
        "        one_electron_spatial_integrals[i, j] = val[2]\r\n",
        "        if i != j:\r\n",
        "            one_electron_spatial_integrals[j, i] = val[2]\r\n",
        "\r\n",
        "    for ind, val in enumerate(two_electron):\r\n",
        "        i = int(val[0]-1)\r\n",
        "        j = int(val[1]-1)\r\n",
        "        k = int(val[2]-1)\r\n",
        "        l = int(val[3]-1)\r\n",
        "        two_electron_spatial_integrals[i, j, k, l] = val[4]\r\n",
        "        if two_electron_spatial_integrals[k, l, i, j] == 0:\r\n",
        "            two_electron_spatial_integrals[k, l, i, j] = val[4]\r\n",
        "        if two_electron_spatial_integrals[i, j, l, k] == 0:\r\n",
        "            two_electron_spatial_integrals[i, j, l, k] = val[4]\r\n",
        "        if two_electron_spatial_integrals[l, k, i, j] == 0:\r\n",
        "            two_electron_spatial_integrals[l, k, i, j] = val[4]\r\n",
        "        if two_electron_spatial_integrals[j, i, k, l] == 0:\r\n",
        "            two_electron_spatial_integrals[j, i, k, l] = val[4]\r\n",
        "        if two_electron_spatial_integrals[k, l, j, i] == 0:\r\n",
        "            two_electron_spatial_integrals[k, l, j, i] = val[4]\r\n",
        "        if two_electron_spatial_integrals[j, i, l, k] == 0:\r\n",
        "            two_electron_spatial_integrals[j, i, l, k] = val[4]\r\n",
        "        if two_electron_spatial_integrals[l, k, j, i] == 0:\r\n",
        "            two_electron_spatial_integrals[l, k, j, i] = val[4]\r\n",
        "\r\n",
        "    return one_electron_spatial_integrals, two_electron_spatial_integrals\r\n",
        "\r\n",
        "def convert_to_spin_index(one_electron, two_electron,n_orb):\r\n",
        "    h1 = np.block([[one_electron, np.zeros((int(n_orb), int(n_orb)))],\r\n",
        "                   [np.zeros((int(n_orb), int(n_orb))), one_electron]])\r\n",
        "    h2 = np.zeros((2 * n_orb, 2 * n_orb, 2 * n_orb, 2 * n_orb))\r\n",
        "\r\n",
        "    for i in range(len(two_electron)):\r\n",
        "        for j in range(len(two_electron)):\r\n",
        "            for k in range(len(two_electron)):\r\n",
        "                for l in range(len(two_electron)):\r\n",
        "\r\n",
        "                    h2[i,j, k + n_orb, l + n_orb] = two_electron[i, j, k, l]\r\n",
        "                    h2[i + n_orb, j + n_orb,k, l] = two_electron[i, j, k, l]\r\n",
        "\r\n",
        "                    if i!=k and j!=l:\r\n",
        "                        h2[i,j,k,l] = two_electron[i,j,k,l]\r\n",
        "                        h2[i + n_orb, j + n_orb, k + n_orb, l + n_orb] = two_electron[i, j, k, l]\r\n",
        "    return h1, 0.5*h2\r\n",
        "\r\n",
        "\r\n",
        "\r\n",
        "data = yaml.load(open(\"H1Li1-7.0.yaml\",\"r\"),SafeLoader)\r\n",
        "n_electrons = data['integral_sets'][0]['n_electrons']\r\n",
        "n_spatial_orbitals = data['integral_sets'][0]['n_orbitals']\r\n",
        "nuclear_repulsion_energy = data['integral_sets'][0]['coulomb_repulsion']['value']\r\n",
        "\r\n",
        "one_electron_import = data['integral_sets'][0]['hamiltonian']['one_electron_integrals']['values']\r\n",
        "two_electron_import = data['integral_sets'][0]['hamiltonian']['two_electron_integrals']['values']\r\n",
        "\r\n",
        "one_electron_spatial_integrals, two_electron_spatial_integrals = get_spatial_integrals(one_electron_import,two_electron_import,n_spatial_orbitals)\r\n",
        "\r\n",
        "h1, h2 = convert_to_spin_index(one_electron_spatial_integrals,two_electron_spatial_integrals,n_spatial_orbitals)\r\n",
        "\r\n",
        "qubitOp = FermionicOperator(h1, h2).mapping(map_type='parity')\r\n",
        "qubitOp = Z2Symmetries.two_qubit_reduction(qubitOp, n_electrons)"
      ],
      "outputs": [],
      "execution_count": null,
      "metadata": {
        "jupyter": {
          "source_hidden": false,
          "outputs_hidden": false
        },
        "nteract": {
          "transient": {
            "deleting": false
          }
        }
      }
    },
    {
      "cell_type": "code",
      "source": [
        "from qiskit.test.mock import FakeVigo\r\n",
        "from qiskit.providers.aer import AerSimulator\r\n",
        "from qiskit.providers.aer import QasmSimulator\r\n",
        "from qiskit.providers.aer.noise import NoiseModel\r\n",
        "\r\n",
        "backend = AerSimulator()\r\n",
        "device_backend = FakeVigo()\r\n",
        "device = QasmSimulator.from_backend(device_backend)\r\n",
        "coupling_map = device.configuration().coupling_map\r\n",
        "noise_model = NoiseModel.from_backend(device)"
      ],
      "outputs": [],
      "execution_count": null,
      "metadata": {
        "jupyter": {
          "source_hidden": false,
          "outputs_hidden": false
        },
        "nteract": {
          "transient": {
            "deleting": false
          }
        }
      }
    },
    {
      "cell_type": "markdown",
      "source": [
        "1. Compute the exact/FCI energy.\r\n",
        "2. Configure the optimizer, the variational form, and the VQE instance. This example uses a heuristic variational form (RYRZ) rather than UCCSD as RYRZ has a much shallower circuit than UCCSD and uses fewer two qubit gates.\r\n",
        "3. Optimized parameters are assigned to ```p0```."
      ],
      "metadata": {
        "nteract": {
          "transient": {
            "deleting": false
          }
        }
      }
    },
    {
      "cell_type": "code",
      "source": [
        "quantum_instance = QuantumInstance(backend=backend, shots=500)\r\n",
        "\r\n",
        "exact_solution = NumPyEigensolver(qubitOp).run()\r\n",
        "print(\"Exact Result:\", np.real(exact_solution.eigenvalues) + nuclear_repulsion_energy)\r\n",
        "\r\n",
        "optimizer = SPSA(maxiter=100)\r\n",
        "var_form = EfficientSU2(qubitOp.num_qubits, entanglement=\"linear\")\r\n",
        "vqe = VQE(qubitOp, var_form, optimizer=optimizer)\r\n",
        "ret = vqe.run(quantum_instance)\r\n",
        "vqe_result = np.real(ret['eigenvalue'] + nuclear_repulsion_energy)\r\n",
        "print(\"VQE Result:\", vqe_result)\r\n",
        "\r\n",
        "p0 = ret.optimal_point\r\n",
        "print(\"Optimal Parameters = \", p0)"
      ],
      "outputs": [],
      "execution_count": null,
      "metadata": {
        "jupyter": {
          "source_hidden": false,
          "outputs_hidden": false
        },
        "nteract": {
          "transient": {
            "deleting": false
          }
        }
      }
    },
    {
      "cell_type": "markdown",
      "source": [
        "**Here we declare the provider and which backend we want to use.**"
      ],
      "metadata": {
        "nteract": {
          "transient": {
            "deleting": false
          }
        }
      }
    },
    {
      "cell_type": "code",
      "source": [
        "from azure.quantum.qiskit import AzureQuantumProvider\n",
        "provider = AzureQuantumProvider(\n",
        "    subscription_id = \"***********\",\n",
        "    resource_group = \"*********\",\n",
        "    name = \"*********\",\n",
        "    location = \"*********\"\n",
        ")\n",
        "\n",
        "quantinuum_backend = provider.get_backend(\"quantinuum.hqs-lt-s1-sim\")"
      ],
      "outputs": [],
      "execution_count": null,
      "metadata": {
        "jupyter": {
          "source_hidden": false,
          "outputs_hidden": false
        },
        "nteract": {
          "transient": {
            "deleting": false
          }
        }
      }
    },
    {
      "cell_type": "markdown",
      "source": [
        "**Evaluate the energy with noise (Quantinuum Simulator) and not error mitigation.**"
      ],
      "metadata": {
        "nteract": {
          "transient": {
            "deleting": false
          }
        }
      }
    },
    {
      "cell_type": "code",
      "source": [
        "quantum_instance = QuantumInstance(backend=quantinuum_backend,\r\n",
        "                                   shots=500)\r\n",
        "\r\n",
        "quantum_instance._qjob_config = {}\r\n",
        "\r\n",
        "optimizer = SPSA(maxiter=100)\r\n",
        "var_form = EfficientSU2(qubitOp.num_qubits, entanglement=\"linear\")\r\n",
        "vqe = VQE(qubitOp, var_form, optimizer=optimizer, initial_point=p0)\r\n",
        "\r\n",
        "# Set the quantum instance manually\r\n",
        "vqe.quantum_instance = quantum_instance\r\n",
        "\r\n",
        "vqe._energy_evaluation(parameters=p0) + nuclear_repulsion_energy"
      ],
      "outputs": [],
      "execution_count": null,
      "metadata": {
        "jupyter": {
          "source_hidden": false,
          "outputs_hidden": false
        },
        "nteract": {
          "transient": {
            "deleting": false
          }
        }
      }
    },
    {
      "cell_type": "markdown",
      "source": [
        "**Evaluate the energy with noise (Quantinuum Simulator) and with error mitigation.**"
      ],
      "metadata": {
        "nteract": {
          "transient": {
            "deleting": false
          }
        }
      }
    },
    {
      "cell_type": "code",
      "source": [
        "quantum_instance = QuantumInstance(backend=quantinuum_backend,\r\n",
        "                                   shots=500,\r\n",
        "                                   measurement_error_mitigation_cls=CompleteMeasFitter,\r\n",
        "                                   cals_matrix_refresh_period=1000)\r\n",
        "\r\n",
        "quantum_instance._qjob_config = {}\r\n",
        "\r\n",
        "optimizer = SPSA(maxiter=100)\r\n",
        "var_form = EfficientSU2(qubitOp.num_qubits, entanglement=\"linear\")\r\n",
        "vqe = VQE(qubitOp, var_form, optimizer=optimizer, initial_point=p0)\r\n",
        "\r\n",
        "# Set the quantum instance manually\r\n",
        "vqe.quantum_instance = quantum_instance\r\n",
        "\r\n",
        "vqe._energy_evaluation(parameters=p0) + nuclear_repulsion_energy"
      ],
      "outputs": [],
      "execution_count": null,
      "metadata": {
        "jupyter": {
          "source_hidden": false,
          "outputs_hidden": false
        },
        "nteract": {
          "transient": {
            "deleting": false
          }
        }
      }
    },
    {
      "cell_type": "markdown",
      "source": [
        "**Choose the hardware you want to use.**"
      ],
      "metadata": {
        "nteract": {
          "transient": {
            "deleting": false
          }
        }
      }
    },
    {
      "cell_type": "code",
      "source": [
        "quantinuum_harware = provider.get_backend(\"quantinuum.hqs-lt-s1\")"
      ],
      "outputs": [],
      "execution_count": null,
      "metadata": {
        "jupyter": {
          "source_hidden": false,
          "outputs_hidden": false
        },
        "nteract": {
          "transient": {
            "deleting": false
          }
        }
      }
    },
    {
      "cell_type": "markdown",
      "source": [
        "**Execute on the quantum hardware.**"
      ],
      "metadata": {
        "nteract": {
          "transient": {
            "deleting": false
          }
        }
      }
    },
    {
      "cell_type": "code",
      "source": [
        "quantum_instance = QuantumInstance(backend=quantinuum_harware,\r\n",
        "                                   measurement_error_mitigation_cls=CompleteMeasFitter,\r\n",
        "                                   cals_matrix_refresh_period=1000)\r\n",
        "\r\n",
        "quantum_instance._qjob_config = {}\r\n",
        "\r\n",
        "optimizer = SPSA(maxiter=1)\r\n",
        "var_form = EfficientSU2(qubitOp.num_qubits, entanglement=\"linear\")\r\n",
        "vqe = VQE(qubitOp, var_form, optimizer=optimizer, initial_point=p0)\r\n",
        "\r\n",
        "# Set the quantum instance manually\r\n",
        "vqe.quantum_instance = quantum_instance\r\n",
        "\r\n",
        "vqe._energy_evaluation(parameters=p0) + nuclear_repulsion_energy"
      ],
      "outputs": [],
      "execution_count": null,
      "metadata": {
        "jupyter": {
          "source_hidden": false,
          "outputs_hidden": false
        },
        "nteract": {
          "transient": {
            "deleting": false
          }
        }
      }
    },
    {
      "cell_type": "markdown",
      "source": [
        "**If the notebook times out, you can calculate the energy from the job IDs. Replace the job names and IDs with those from your calculation.**"
      ],
      "metadata": {
        "nteract": {
          "transient": {
            "deleting": false
          }
        }
      }
    },
    {
      "cell_type": "code",
      "source": [
        "jobs = {'mcalcal_00': '0165c616-f19b-11ec-97c4-00155d6895f8',\r\n",
        " 'mcalcal_01': '01d3ba68-f19b-11ec-97c4-00155d6895f8',\r\n",
        " 'mcalcal_10': '022724e6-f19b-11ec-97c4-00155d6895f8',\r\n",
        " 'mcalcal_11': '026b32f8-f19b-11ec-97c4-00155d6895f8',\r\n",
        " 'EfficientSU2-988-2105': '02b25700-f19b-11ec-97c4-00155d6895f8',\r\n",
        " 'EfficientSU2-988-2106': '02fb668e-f19b-11ec-97c4-00155d6895f8',\r\n",
        " 'EfficientSU2-988-2107': '03411080-f19b-11ec-97c4-00155d6895f8',\r\n",
        " 'EfficientSU2-988-2108': '0390d048-f19b-11ec-97c4-00155d6895f8'}\r\n",
        "\r\n",
        "jobs[\"EfficientSU2\"] = [\r\n",
        "    job for name, job in sorted(jobs.items(), reverse=True) if \"EfficientSU2\" in name\r\n",
        "]\r\n",
        "\r\n",
        "def fetch_job(qobj, **kwargs):\r\n",
        "    name = qobj.experiments[0].header.name\r\n",
        "    if name.startswith(\"EfficientSU2\"):\r\n",
        "        job_id = jobs[\"EfficientSU2\"].pop()\r\n",
        "    else:\r\n",
        "        job_id = jobs.get(name)\r\n",
        "    if job_id is not None:\r\n",
        "        job = quantinuum_backend.retrieve_job(job_id=job_id)\r\n",
        "        job.refresh()\r\n",
        "        return job\r\n",
        "    else:\r\n",
        "        raise ValueError(f\"No job found with name '{name}'.\")\r\n",
        "\r\n",
        "quantinuum_backend.run = fetch_job\r\n",
        "\r\n",
        "quantum_instance = QuantumInstance(backend=quantinuum_backend,\r\n",
        "                                   measurement_error_mitigation_cls=CompleteMeasFitter,\r\n",
        "                                   cals_matrix_refresh_period=1000)\r\n",
        "\r\n",
        "# Unset qjob config to avoid errors when running job.result()\r\n",
        "quantum_instance._qjob_config = {}\r\n",
        "# Create optimizer with only one iteration\r\n",
        "optimizer = SPSA(maxiter=1)\r\n",
        "var_form = EfficientSU2(qubitOp.num_qubits, entanglement=\"linear\")\r\n",
        "vqe = VQE(qubitOp, var_form, optimizer=optimizer)\r\n",
        "# Set the quantum instance to be able to run only the last iteration\r\n",
        "vqe.quantum_instance = quantum_instance\r\n",
        "\r\n",
        "# Get energy from the stored jobs\r\n",
        "energy = vqe._energy_evaluation(parameters=p0) + nuclear_repulsion_energy\r\n",
        "print(energy)"
      ],
      "outputs": [],
      "execution_count": null,
      "metadata": {
        "jupyter": {
          "source_hidden": false,
          "outputs_hidden": false
        },
        "nteract": {
          "transient": {
            "deleting": false
          }
        }
      }
    }
  ],
  "metadata": {
    "language_info": {
      "name": "python",
      "version": "3.7.13",
      "mimetype": "text/x-python",
      "codemirror_mode": {
        "name": "ipython",
        "version": 3
      },
      "pygments_lexer": "ipython3",
      "nbconvert_exporter": "python",
      "file_extension": ".py"
    },
    "kernelspec": {
      "name": "python3",
      "language": "python",
      "display_name": "Python 3 (ipykernel)"
    },
    "kernel_info": {
      "name": "python3"
    },
    "nteract": {
      "version": "nteract-front-end@1.0.0"
    }
  },
  "nbformat": 4,
  "nbformat_minor": 0
}